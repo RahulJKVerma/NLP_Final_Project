{
 "metadata": {
  "name": "",
  "signature": "sha256:71837b30d9f5297411f73c7dbfbaca02dbc1eec18a2cdd4b796c7691c83565ba"
 },
 "nbformat": 3,
 "nbformat_minor": 0,
 "worksheets": [
  {
   "cells": [
    {
     "cell_type": "markdown",
     "metadata": {},
     "source": [
      "#TED EXPLORE\n",
      "Matthew Valente, Rahul Verma, Sindhuja Jeyabal\n",
      "\n",
      "##Introduction:\n",
      "    The notebook aims at analysing metrics that qualify a transcript as belonging to a particular category. The dataset under consideration is a set of 177 transcripts of the most viewed TED videos. The category mentioned above are the user-rating categories as defined by TED.\n",
      "    The notebook has two parts\n",
      "          1. Regression Model for predicting category percentages\n",
      "          2. Discourse structure analysis as promoted by Nancy Duarte - a TED partner"
     ]
    },
    {
     "cell_type": "code",
     "collapsed": false,
     "input": [
      "%pylab inline\n",
      "import sys\n",
      "import pickle\n",
      "import nltk\n",
      "import string\n",
      "import numpy as np\n",
      "import pandas\n",
      "import csv\n",
      "import textwrap\n",
      "from nltk.corpus import wordnet as wn\n",
      "import matplotlib.pyplot as plt\n",
      "from sklearn import datasets, linear_model, metrics\n",
      "from scipy.stats import zscore\n",
      "sys.path.append('../Scripts')"
     ],
     "language": "python",
     "metadata": {},
     "outputs": [
      {
       "output_type": "stream",
       "stream": "stdout",
       "text": [
        "Populating the interactive namespace from numpy and matplotlib\n"
       ]
      }
     ],
     "prompt_number": 4
    },
    {
     "cell_type": "markdown",
     "metadata": {},
     "source": [
      "##Data Processing       \n",
      "       Data is scraped from ted.com using Kimono Labs API. Helper functions are written in api.py, api_para.py, api_topics.py(under ../Scripts). These scripts have methods to process the data - tokenization and tagging. api_topics.py includes code for Text Tiling - one of the most important feature in the regression model. The processed data is dumped in pickle files (under ../Corpus). The ted_object.py script(under ../Scripts) has the ted class which serves as an interface to the Corpus.\n",
      "       The y.p pickle file contains the user rating information (in percentages) for the dataset."
     ]
    },
    {
     "cell_type": "code",
     "collapsed": false,
     "input": [
      "# loading data from pickle files (tokenization & tagging- default nltk)\n",
      "import ted_object\n",
      "from ted_object import ted\n",
      "t_obj = ted()\n",
      "\n",
      "# Corpus objects\n",
      "tagged_sents = t_obj.tagged_sents_talk()\n",
      "tagged_words = t_obj.tagged_words_talk()\n",
      "tagged_paras = t_obj.tagged_paras()\n",
      "tagged_topics = t_obj.tagged_topics()\n",
      "#words_bag = t_obj.words_bag()\n",
      "\n",
      "# y labels\n",
      "all_labels = pickle.load(open('../Corpus/y.p', 'rb'))\n",
      "confusing_y = [row[0] for row in all_labels]\n",
      "funny_y = [row[1] for row in all_labels]\n",
      "informative_y = [row[2] for row in all_labels]"
     ],
     "language": "python",
     "metadata": {},
     "outputs": [],
     "prompt_number": 7
    },
    {
     "cell_type": "markdown",
     "metadata": {},
     "source": [
      "## Normalize text\n",
      "\n",
      "#ATTN: MATT\n",
      "Do we need the cell below?"
     ]
    },
    {
     "cell_type": "code",
     "collapsed": false,
     "input": [
      "from nltk.corpus import stopwords\n",
      "from nltk.stem import *\n",
      "from nltk.stem.porter import *\n",
      "\n",
      "def tokenize_text(text):\n",
      "    \"\"\"Retains '(laughs)'\"\"\"\n",
      "    pattern =[\"(?x)([A-Z]\\.)+\",\n",
      "               \"\\w+([-]\\w+)*\",\n",
      "               \"\\$?\\d+(\\.\\d+)?%?\",\n",
      "               \"\\.\\.\\.\",\n",
      "               \"[.,?;]+\"]\n",
      "    pattern = \"|\".join(pattern)\n",
      "    text = \" \".join(text) if isinstance(text, list) == True else text\n",
      "    tokens = nltk.regexp_tokenize(text,pattern)\n",
      "    return tokens\n",
      "\n",
      "wnl = WordNetLemmatizer()\n",
      "\n",
      "# reduce words to root format\n",
      "def get_root_phrase(word, tag):\n",
      "    word = word.lower()\n",
      "    #trim joint words\n",
      "    if word.endswith(\"'s\"):\n",
      "        print word\n",
      "        word = word[:-2]\n",
      "    #don't cut short words. e.g. rss would be reduced to r\n",
      "    if len(word)<=3 and word not in COMMON_WORDS:\n",
      "        return word\n",
      "    #try to morphy\n",
      "    morphy = wn.morphy(word)\n",
      "    if morphy is None:\n",
      "        morphy = word\n",
      "    #lemmatize morphy\n",
      "    lem = wnl.lemmatize(morphy, 'n')\n",
      "    if lem and len(word)>3: \n",
      "        morphy = lem\n",
      "    return morphy\n",
      "\n",
      "# Get morphy words in a sentence\n",
      "def get_morphys(tagged_sentence):\n",
      "   return [ (get_root_phrase(word, tag), tag) for (word, tag) in tagged_sentence \\\n",
      "               if word not in stop_words and (word.isalnum() or '-' in word) and not word.isdigit()\\\n",
      "               and len(get_root_phrase(word, tag))>1]\n",
      "\n",
      "#remove all stop words and punctuations\n",
      "non_stop_words = list()\n",
      "for talk in tagged_words:\n",
      "    non_stop_words.append([(w,t) for w,t in talk if w.lower() not in stopwords.words('english') and\n",
      "                       w.lower() not in string.punctuation])\n",
      "pickle.dump(non_stop_words, open( \"../Corpus/non_stop_tagged_words_talks.p\", \"wb\" ))\n",
      "\n",
      "porter_stemmer = PorterStemmer()\n",
      "stemmed_words = list()\n",
      "for talk in non_stop_words:\n",
      "    stemmed_words.append([(porter_stemmer.stem(w),t) for w,t in talk])\n",
      "pickle.dump(stemmed_words, open( \"../Corpus/stemmed_tagged_words_talks.p\", \"wb\" ))"
     ],
     "language": "python",
     "metadata": {},
     "outputs": [],
     "prompt_number": 158
    },
    {
     "cell_type": "markdown",
     "metadata": {},
     "source": [
      "## Helper functions\n",
      "#ATTN MATT: Are we chunking at all? Remove?"
     ]
    },
    {
     "cell_type": "code",
     "collapsed": false,
     "input": [
      "#helper function to chunk the sentenses based on a grammar\n",
      "def parse_sents(ip_sent, grammar):\n",
      "    cp = nltk.RegexpParser(grammar)\n",
      "    result = cp.parse(ip_sent)\n",
      "    return result\n",
      "\n",
      "#helper function to extract subtrees\n",
      "def extract_tree(sents,grammar, match):\n",
      "    ret_list = []\n",
      "    for sent in sents:\n",
      "        res = parse_sents(sent, grammar)\n",
      "        ret_list += [' '.join([word for(word, tag) in subtree]) for subtree in res.subtrees(filter = lambda t: t.node == match)]\n",
      "    return ret_list"
     ],
     "language": "python",
     "metadata": {},
     "outputs": [],
     "prompt_number": 159
    },
    {
     "cell_type": "markdown",
     "metadata": {},
     "source": [
      "##Feature Extraction Functions\n",
      "\n",
      "    There are 3 regression models one for each category label - Informative, Confusing, Funny.\n",
      "    Each have a separate set of features; Confusing and Informative have a lot of overlapping features. The following block includes all the feature extraction functions for the different models."
     ]
    },
    {
     "cell_type": "code",
     "collapsed": false,
     "input": [
      "NEGATION_LIST = [\"no\", \"not\", \"never\", \"can't\", \"won't\"]\n",
      "CERTAINTY_LIST = [\"always\", \"never\", \"often\", \"sometimes\"]\n",
      "HEDGE_LIST = [\"well\", \"possibly\", \"maybe\"]\n",
      "\n",
      "def min_max_normalize(feature):\n",
      "    '''Converts a list of numerical values to a list of values between 0 and 1'''\n",
      "    minVal = min(feature)\n",
      "    maxVal = max(feature)\n",
      "    normalized = [(e - minVal / (maxVal - minVal + 1) ) for e in feature] #Adding 1 as a stop gap measure\n",
      "    #normalized = (feature-np.min(feature))/np.ptp(feature)\n",
      "    return normalized\n",
      "\n",
      "\n",
      "def punctuation_count(talk_sents, punc):\n",
      "    featureVector = []\n",
      "    for talk in talk_sents:\n",
      "        num_punc = len([1 for sent in talk for w,t in sent if punc == w])\n",
      "        featureVector.append(num_punc)\n",
      "    return featureVector\n",
      "\n",
      "# From the paper Rahul mentioned for Technical terms - Citation required\n",
      "def num_techterms(talk_sents):\n",
      "    featureVector = []\n",
      "    for talk in talk_sents:\n",
      "        njn_list = extract_tree(talk, 'NJN: {(<N.*>*<J*>*<N.*>+)+}','NJN')\n",
      "        npn_list = extract_tree(talk, 'NPN: {(<N.*>+<P.*><N.*>+)+}','NPN')\n",
      "        featureVector.append(sum(len(njn_list), len(npn_list)))\n",
      "    return featureVector\n",
      "\n",
      "def num_first_person_pronoun_chunk(talk_sents):\n",
      "    featureVector = []\n",
      "    pro_verb = \"(<PR.*>|<N.*P>+)+<TO>?<MD>?<TO>?<VB.*>+\"\n",
      "    VB_grammar = \"PROVB: {\" + pro_verb + \"}\"\n",
      "    for talk in talk_sents:\n",
      "        pvb_list = extract_tree(talk,VB_grammar, \"PROVB\")\n",
      "        featureVector.append(len(pvb_list))\n",
      "    return featureVector    \n",
      "\n",
      "def num_words(talk_sents):\n",
      "    featureVector = []\n",
      "    for talk in talk_sents:\n",
      "        word_list = [word for sents in talk for word in sents]\n",
      "        num_words = len(word_list)        \n",
      "        featureVector.append(num_words)\n",
      "    return featureVector\n",
      "\n",
      "def avg_word_length(talk_sents):\n",
      "    featureVector = []\n",
      "    for talk in talk_sents:\n",
      "        word_list = [word for sents in talk for word in sents]\n",
      "        num_words = len(word_list)    \n",
      "        total_len = sum([len(sent) for sent in talk])\n",
      "        featureVector.append(total_len / num_words)\n",
      "    return featureVector\n",
      "\n",
      "def num_unique_words(talk_sents):\n",
      "    featureVector = []\n",
      "    for talk in talk_sents:\n",
      "        word_list = [word for sents in talk for word in sents]\n",
      "        num_unique = len(list(set(word_list)))\n",
      "        featureVector.append(num_unique)\n",
      "    return featureVector\n",
      "\n",
      "def num_unique_big_words(talk_sents):\n",
      "    featureVector = []\n",
      "    for talk in talk_sents:\n",
      "        word_list = [word for sents in talk for word in sents]\n",
      "        unique_big = len(list(set([word for word in word_list if len(word) > 10])))\n",
      "        featureVector.append(unique_big)\n",
      "    return featureVector\n",
      "\n",
      "def num_neg_words(talk_sents):\n",
      "    featureVector = []\n",
      "    for talk in talk_sents:\n",
      "        word_list = [word for sents in talk for word in sents]\n",
      "        num_neg = len([word for word in word_list if word in NEGATION_LIST])\n",
      "        featureVector.append(num_neg)\n",
      "    return featureVector\n",
      "\n",
      "def num_certain_words(talk_sents):\n",
      "    featureVector = []\n",
      "    for talk in talk_sents:\n",
      "        word_list = [word for sents in talk for word in sents]\n",
      "        num_certain = len([word for word in word_list if word in CERTAINTY_LIST])\n",
      "        featureVector.append(num_certain)\n",
      "    return featureVector\n",
      "\n",
      "def num_hedge_words(talk_sents):\n",
      "    featureVector = []\n",
      "    for talk in talk_sents:\n",
      "        word_list = [word for sents in talk for word in sents]\n",
      "        num_hedge = len([word for word in word_list if word in HEDGE_LIST])\n",
      "        featureVector.append(num_hedge)\n",
      "    return featureVector\n",
      "\n",
      "def num_sents(talk_sents):\n",
      "    featureVector = []\n",
      "    for talk in talk_sents:\n",
      "        featureVector.append(len(talk))\n",
      "    return featureVector\n",
      "\n",
      "def avg_words_sent(talk_sents):\n",
      "    featureVector = []\n",
      "    for talk in talk_sents:\n",
      "        word_list = [word for sents in talk for word in sents]\n",
      "        avg = len(word_list) / len(talk)\n",
      "        featureVector.append(avg)\n",
      "    return featureVector\n",
      "\n",
      "def num_paras(talk_paras):\n",
      "    featureVector = []\n",
      "    for talk in talk_paras:\n",
      "        featureVector.append(len(talk))\n",
      "    return featureVector\n",
      "\n",
      "def avg_words_para(talk_paras):\n",
      "    featureVector = []\n",
      "    for talk in talk_paras:\n",
      "        word_list = [word for paras in talk for sent in paras for word in sent]\n",
      "        avg = len(word_list) / len(talk)\n",
      "        featureVector.append(avg)\n",
      "    return featureVector\n",
      "\n",
      "def count_pos(tagged_words, pos_tag):\n",
      "    \"\"\"Counts number of occurrences of a particular POS in each talk\"\"\"\n",
      "    featureVector = []\n",
      "    for talk in tagged_words:\n",
      "        count = 0\n",
      "        for word , tag in talk:\n",
      "            if pos_tag in tag:\n",
      "                count += 1\n",
      "        featureVector.append(count)\n",
      "    return featureVector\n",
      "\n",
      "def num_topics(b_list):\n",
      "    featureVector = [b for p,b,w,t in b_list]\n",
      "    return featureVector\n",
      "\n",
      "def avg_topic_length(b_list):\n",
      "    featureVector = []\n",
      "    for p,b,w,t in b_list:\n",
      "        if b == 0:\n",
      "            featureVector.append(p)\n",
      "        else:\n",
      "            featureVector.append(p/float(b))\n",
      "    return featureVector\n",
      "\n",
      "def num_second_person(tagged_words):\n",
      "    featureVector = []\n",
      "    for talk in tagged_words:\n",
      "        count = 0\n",
      "        for word , tag in talk:\n",
      "            if word.lower() == 'you' or word.lower() == 'your':\n",
      "                count += 1\n",
      "        featureVector.append(count)\n",
      "    return featureVector"
     ],
     "language": "python",
     "metadata": {},
     "outputs": [],
     "prompt_number": 160
    },
    {
     "cell_type": "markdown",
     "metadata": {},
     "source": [
      "    Here we have the wrapper funtions which call the corresponding feature functions based on the model."
     ]
    },
    {
     "cell_type": "code",
     "collapsed": false,
     "input": [
      "def confusing_matrix():\n",
      "    header = [\"question_count\",\n",
      "               \"exclamation_count\",\n",
      "               \"semicolon_count\",\n",
      "               #\"num_techterms\", commented, needs to be removed later\n",
      "               #\"personal_pronoun\",\n",
      "               #\"num_words\",\n",
      "               \"avg_word_length\",\n",
      "               \"num_unique_words\",\n",
      "               \"num_unique_big_words\",\n",
      "               \"num_neg_words\",\n",
      "               \"num_certain_words\",\n",
      "               \"num_hedge_words\",\n",
      "               \"num_sents\",\n",
      "               \"avg_words_sent\",\n",
      "               \"num_paras\",\n",
      "               \"avg_words_para\",\n",
      "               \"count_adjectives\",\n",
      "               \"count_verbs\",\n",
      "               \"count_conjunction\",\n",
      "               \"num_topics\",\n",
      "               \"avg_topic_length\",\n",
      "               'num_second_person'\n",
      "               ]\n",
      "    feature_list = []\n",
      "    \n",
      "    feature_list.append(min_max_normalize(punctuation_count(tagged_sents, \"?\")))\n",
      "    feature_list.append(min_max_normalize(punctuation_count(tagged_sents, \"!\")))\n",
      "    feature_list.append(min_max_normalize(punctuation_count(tagged_sents, \";\")))\n",
      "    #feature_list.append(min_max_normalize(num_techterms(tagged_sents))) #Commented, needs to be removed\n",
      "    #feature_list.append(min_max_normalize(num_first_person_pronoun_chunk(tagged_sents)))\n",
      "    #feature_list.append(min_max_normalize(num_words(tagged_sents)))\n",
      "    feature_list.append(min_max_normalize(avg_word_length(tagged_sents)))\n",
      "    feature_list.append(min_max_normalize(num_unique_words(tagged_sents)))\n",
      "    feature_list.append(min_max_normalize(num_unique_big_words(tagged_sents)))\n",
      "    feature_list.append(min_max_normalize(num_neg_words(tagged_sents)))\n",
      "    feature_list.append(min_max_normalize(num_certain_words(tagged_sents)))\n",
      "    feature_list.append(min_max_normalize(num_hedge_words(tagged_sents)))\n",
      "    feature_list.append(min_max_normalize(num_sents(tagged_sents)))\n",
      "    feature_list.append(min_max_normalize(avg_words_sent(tagged_sents)))\n",
      "    feature_list.append(min_max_normalize(num_paras(tagged_paras)))\n",
      "    feature_list.append(min_max_normalize(avg_words_para(tagged_paras)))\n",
      "    feature_list.append(min_max_normalize(count_pos(tagged_words, \"JJ\")))\n",
      "    feature_list.append(min_max_normalize(count_pos(tagged_words, \"VB\")))\n",
      "    feature_list.append(min_max_normalize(map(lambda x, y: x + y, count_pos(tagged_words, \"CC\"), count_pos(tagged_words, \"IN\"))))\n",
      "    feature_list.append(min_max_normalize(num_topics(tagged_topics)))\n",
      "    feature_list.append((avg_topic_length(tagged_topics)))\n",
      "    feature_list.append(min_max_normalize(num_second_person(tagged_words)))\n",
      "    df = pandas.DataFrame(feature_list)\n",
      "    df.index = header\n",
      "    df = df.transpose()\n",
      "    df['Label'] = map(int, confusing_y)\n",
      "    return df\n",
      "    \n",
      "#def funny_matrix():\n",
      "\n",
      "def informative_matrix():\n",
      "    header = [\"question_count\",\n",
      "               \"exclamation_count\",\n",
      "               \"semicolon_count\",\n",
      "               #\"num_techterms\",\n",
      "               #\"personal_pronoun\",\n",
      "               #\"num_words\",\n",
      "               \"avg_word_length\",\n",
      "               \"num_unique_words\",\n",
      "               \"num_unique_big_words\",\n",
      "               \"num_neg_words\",\n",
      "               \"num_certain_words\",\n",
      "               \"num_hedge_words\",\n",
      "               \"num_sents\",\n",
      "               \"avg_words_sent\",\n",
      "               \"num_paras\",\n",
      "               \"avg_words_para\",\n",
      "               \"count_adjectives\",\n",
      "               \"count_verbs\",\n",
      "               \"count_conjunction\",\n",
      "                \"num_topics\",\n",
      "               \"avg_topic_length\",\n",
      "               \"num_second_person\"\n",
      "               ]\n",
      "    feature_list = []\n",
      "    \n",
      "    feature_list.append(min_max_normalize(punctuation_count(tagged_sents, \"?\")))\n",
      "    feature_list.append(min_max_normalize(punctuation_count(tagged_sents, \"!\")))\n",
      "    feature_list.append(min_max_normalize(punctuation_count(tagged_sents, \";\")))\n",
      "    #feature_list.append(min_max_normalize(num_techterms(tagged_sents)))\n",
      "    #feature_list.append(min_max_normalize(num_first_person_pronoun_chunk(tagged_sents)))\n",
      "    #feature_list.append(min_max_normalize(num_words(tagged_sents)))\n",
      "    feature_list.append(min_max_normalize(avg_word_length(tagged_sents)))\n",
      "    feature_list.append(min_max_normalize(num_unique_words(tagged_sents)))\n",
      "    feature_list.append(min_max_normalize(num_unique_big_words(tagged_sents)))\n",
      "    feature_list.append(min_max_normalize(num_neg_words(tagged_sents)))\n",
      "    feature_list.append(min_max_normalize(num_certain_words(tagged_sents)))\n",
      "    feature_list.append(min_max_normalize(num_hedge_words(tagged_sents)))\n",
      "    feature_list.append(min_max_normalize(num_sents(tagged_sents)))\n",
      "    feature_list.append(min_max_normalize(avg_words_sent(tagged_sents)))\n",
      "    feature_list.append(min_max_normalize(num_paras(tagged_paras)))\n",
      "    feature_list.append(min_max_normalize(avg_words_para(tagged_paras)))\n",
      "    feature_list.append(min_max_normalize(count_pos(tagged_words, \"JJ\")))\n",
      "    feature_list.append(min_max_normalize(count_pos(tagged_words, \"VB\")))\n",
      "    feature_list.append(min_max_normalize(map(lambda x, y: x + y, count_pos(tagged_words, \"CC\"), count_pos(tagged_words, \"IN\"))))\n",
      "    feature_list.append(min_max_normalize(num_topics(tagged_topics)))\n",
      "    feature_list.append((avg_topic_length(tagged_topics)))\n",
      "    feature_list.append(min_max_normalize(num_second_person(tagged_words)))\n",
      "    df = pandas.DataFrame(feature_list)\n",
      "    df.index = header\n",
      "    df = df.transpose()\n",
      "    df['Label'] = map(int, informative_y)\n",
      "    return df"
     ],
     "language": "python",
     "metadata": {},
     "outputs": [],
     "prompt_number": 346
    },
    {
     "cell_type": "markdown",
     "metadata": {},
     "source": [
      "## Split Data\n",
      "    The data is split int training, development and test sets."
     ]
    },
    {
     "cell_type": "code",
     "collapsed": false,
     "input": [
      "def create_feature_sets(data_frame, split=[.7,.2,.1]):\n",
      "    trainlen = int(split[0] * len(data_frame))\n",
      "    devlen = int(split[1] * len(data_frame))\n",
      "    return data_frame[:trainlen], data_frame[trainlen:trainlen+devlen], data_frame[trainlen:trainlen+devlen:]\n",
      "\n",
      "df_confusing = confusing_matrix()\n",
      "df_informative = informative_matrix()\n",
      "\n",
      "train_set_con, dev_set_con, test_set_con = create_feature_sets(df_confusing)\n",
      "train_set_inf, dev_set_inf, test_set_inf = create_feature_sets(df_informative)"
     ],
     "language": "python",
     "metadata": {},
     "outputs": [],
     "prompt_number": 347
    },
    {
     "cell_type": "markdown",
     "metadata": {},
     "source": [
      "##Train Test Predict\n",
      "    The following is a linear regression model. The summary of the model follows the code.\n",
      "###Confusing Model:"
     ]
    },
    {
     "cell_type": "code",
     "collapsed": false,
     "input": [
      "# Create linear regression object\n",
      "regr = linear_model.LinearRegression()\n",
      "\n",
      "X_train = train_set_con.iloc[:,:-1]\n",
      "Y_train = train_set_con.iloc[:,-1]\n",
      "X_dev = dev_set_con.iloc[:,:-1]\n",
      "Y_dev = dev_set_con.iloc[:,-1]\n",
      "X_test =test_set_con.iloc[:,:-1]\n",
      "Y_test = test_set_con.iloc[:,-1]\n",
      "\n",
      "# Train the model using the training sets\n",
      "regr.fit(X_train, Y_train)\n",
      "\n",
      "# The coefficients\n",
      "print('Coefficients: \\n', regr.coef_)\n",
      "\n",
      "# The mean square error\n",
      "print(\"Residual sum of squares: %.2f\"\n",
      "      % np.mean((regr.predict(X_dev) - Y_dev) ** 2))\n",
      "\n",
      "# Explained variance score: 1 is perfect prediction\n",
      "print('Variance score: %.2f' % regr.score(X_dev, Y_dev))\n"
     ],
     "language": "python",
     "metadata": {},
     "outputs": [
      {
       "output_type": "stream",
       "stream": "stdout",
       "text": [
        "('Coefficients: \\n', array([  9.02775171e-03,   9.13573392e-03,   1.19863290e-03,\n",
        "        -9.57793336e-18,  -3.78683952e-04,  -1.03390091e-16,\n",
        "        -1.16992001e-17,  -3.65927199e-18,  -5.00735103e-18,\n",
        "        -4.53896150e-03,  -2.12512889e-02,   2.59926856e-02,\n",
        "         6.15002597e-03,   5.82854385e-03,   3.35251450e-04,\n",
        "        -1.11385619e-03,  -7.12517551e-02,  -3.32734530e-02,\n",
        "         3.36921851e-03]))\n",
        "Residual sum of squares: 10.15\n",
        "Variance score: -5.24\n"
       ]
      }
     ],
     "prompt_number": 348
    },
    {
     "cell_type": "code",
     "collapsed": false,
     "input": [
      "# Predict\n",
      "predicted_dev = regr.predict(dev_set_con.iloc[:,:-1])\n",
      "predicted_test = regr.predict(test_set_con.iloc[:,:-1])\n",
      "\n",
      "# Normalize the predicted values to look at the shapes, commented for the timebeing to check the predicted label without normalization\n",
      "#normalized_Y_dev = Y_dev-np.min(Y_dev))/np.ptp(Y_dev) \n",
      "#normalized_predicted_dev = (predicted_dev-np.min(predicted_dev))/np.ptp(predicted_dev)\n",
      "#normalized_Y_test = (Y_test-np.min(Y_test))/np.ptp(Y_test) \n",
      "#normalized_predicted_test = (predicted_test-np.min(predicted_test))/np.ptp(predicted_test)\n",
      "\n",
      "normalized_Y_dev = Y_dev\n",
      "normalized_predicted_dev = predicted_dev\n",
      "normalized_Y_test = Y_test\n",
      "normalized_predicted_test = predicted_test\n",
      "\n",
      "#Best possible score is 1.0, lower values are not ideal. Should we normalize the labels (Y values) as well?\n",
      "print metrics.r2_score(normalized_Y_dev, normalized_predicted_dev), metrics.r2_score(normalized_Y_test, normalized_predicted_test)\n",
      "\n",
      "#Mean squared error, ideal should be 0\n",
      "print metrics.mean_absolute_error(normalized_Y_dev, normalized_predicted_dev, sample_weight=None)"
     ],
     "language": "python",
     "metadata": {},
     "outputs": [
      {
       "output_type": "stream",
       "stream": "stdout",
       "text": [
        "-5.23720243678 -5.23720243678\n",
        "1.28797643753\n"
       ]
      }
     ],
     "prompt_number": 349
    },
    {
     "cell_type": "markdown",
     "metadata": {},
     "source": [
      "####Lasso Regression for COnfusing Model\n",
      "    Lasso Regression is instrumental in extracting only the useful features."
     ]
    },
    {
     "cell_type": "code",
     "collapsed": false,
     "input": [
      "#We can use Lasso regression which itertively tries to find the most important predictor from a host of predictors.\n",
      "lasso = linear_model.LassoCV()\n",
      "\n",
      "# Train lasso model using the training sets\n",
      "lasso.fit(X_train, Y_train)\n",
      "\n",
      "# The coefficients\n",
      "print('Coefficients: \\n', lasso.coef_)\n",
      "\n",
      "# The mean square error\n",
      "print(\"Residual sum of squares: %.2f\"\n",
      "      % np.mean((lasso.predict(X_dev) - Y_dev) ** 2))\n",
      "\n",
      "# Explained variance score: 1 is perfect prediction\n",
      "print('Variance score: %.2f' % lasso.score(X_dev, Y_dev))\n"
     ],
     "language": "python",
     "metadata": {},
     "outputs": [
      {
       "output_type": "stream",
       "stream": "stdout",
       "text": [
        "('Coefficients: \\n', array([ 0.00454042,  0.        ,  0.        ,  0.        , -0.00059021,\n",
        "        0.        ,  0.        ,  0.        ,  0.        , -0.00183587,\n",
        "       -0.        ,  0.02142345,  0.00635234,  0.004846  , -0.00014847,\n",
        "       -0.00138043, -0.03164177,  0.        ,  0.00353736]))\n",
        "Residual sum of squares: 10.39\n",
        "Variance score: -5.38\n"
       ]
      }
     ],
     "prompt_number": 350
    },
    {
     "cell_type": "markdown",
     "metadata": {},
     "source": [
      "###Analysis of Lasso Regression:\n",
      "    As we can see, the Lasso regression is much better are explaining the variance in our data as compared to simple linear regression. Lasso assigns 0 coefficients to poor predictors and assigns higher magnitudes to singinificant predictors.\n",
      "\n",
      "    As per the lasso regression model, the features that are most useful for predicting the labels and their correlation are:<br>\n",
      "        1) Number of questions (lesser the better)\n",
      "        2) Number of unique words (The more the better, very weak factor)\n",
      "        3) Number of sentences (The more the better)\n",
      "        4) The number of paragraphs (lesser the better, strong factor)\n",
      "        5) Average words per paragrpah (lesser the better)\n",
      "        6) Count of adjectives (lesser the better)\n",
      "        7) Count of verbs (The more the better)\n",
      "        8) Count of conjunctions (lesser the better)\n",
      "        9) Number of sub-topics (The more the better, strongest factor)\n",
      "        10) Number of second person pronouns (lesser the better)"
     ]
    },
    {
     "cell_type": "code",
     "collapsed": false,
     "input": [
      "# Predict\n",
      "predicted_dev = lasso.predict(X_dev)\n",
      "predicted_test = lasso.predict(X_test)\n",
      "\n",
      "# Normalize the predicted values to look at the shapes\n",
      "#normalized_Y_dev = Y_dev-np.min(Y_dev))/np.ptp(Y_dev) \n",
      "#normalized_predicted_dev = (predicted_dev-np.min(predicted_dev))/np.ptp(predicted_dev)\n",
      "#normalized_Y_test = (Y_test-np.min(Y_test))/np.ptp(Y_test) \n",
      "#normalized_predicted_test = (predicted_test-np.min(predicted_test))/np.ptp(predicted_test)\n",
      "\n",
      "normalized_Y_dev = Y_dev\n",
      "normalized_predicted_dev = predicted_dev\n",
      "normalized_Y_test = Y_test\n",
      "normalized_predicted_test = predicted_test"
     ],
     "language": "python",
     "metadata": {},
     "outputs": [],
     "prompt_number": 351
    },
    {
     "cell_type": "code",
     "collapsed": false,
     "input": [
      "#pandas.DataFrame(predicted_dev.astype(float64)).append(pandas.DataFrame(Y_dev.astype(float64)))\n",
      "pandas.DataFrame(Y_dev.values, predicted_dev)"
     ],
     "language": "python",
     "metadata": {},
     "outputs": []
    },
    {
     "cell_type": "markdown",
     "metadata": {},
     "source": [
      "###Informative Model:"
     ]
    },
    {
     "cell_type": "code",
     "collapsed": false,
     "input": [
      "# Create linear regression object for informative features\n",
      "\n",
      "regr = linear_model.LinearRegression()\n",
      "\n",
      "X_train = train_set_inf.iloc[:,:-1]\n",
      "Y_train = train_set_inf.iloc[:,-1]\n",
      "X_dev = dev_set_inf.iloc[:,:-1]\n",
      "Y_dev = dev_set_inf.iloc[:,-1]\n",
      "X_test =test_set_inf.iloc[:,:-1]\n",
      "Y_test = test_set_inf.iloc[:,-1]\n",
      "\n",
      "# Train the model using the training sets\n",
      "regr.fit(X_train, Y_train)\n",
      "\n",
      "# The coefficients\n",
      "print('Coefficients: \\n', regr.coef_)\n",
      "\n",
      "# The mean square error\n",
      "print(\"Residual sum of squares: %.2f\"\n",
      "      % np.mean((regr.predict(X_dev) - Y_dev) ** 2))\n",
      "\n",
      "# Explained variance score: 1 is perfect prediction\n",
      "print('Variance score: %.2f' % regr.score(X_dev, Y_dev))\n"
     ],
     "language": "python",
     "metadata": {},
     "outputs": [
      {
       "output_type": "stream",
       "stream": "stdout",
       "text": [
        "('Coefficients: \\n', array([  1.90179652e-04,  -1.22864138e-01,   1.17359715e-01,\n",
        "        -2.92633441e-16,   9.70946084e-04,  -1.70912225e-15,\n",
        "        -1.66761462e-18,  -1.83249726e-16,   4.29734273e-17,\n",
        "        -5.35000057e-02,  -6.72009972e-01,  -4.52220356e-02,\n",
        "        -1.76890706e-02,   9.21044053e-02,  -3.20924392e-02,\n",
        "         2.62025810e-02,  -1.01757686e-01,  -8.20376391e-01,\n",
        "         8.02078591e-02]))\n",
        "Residual sum of squares: 135.00\n",
        "Variance score: -0.68\n"
       ]
      }
     ],
     "prompt_number": 353
    },
    {
     "cell_type": "code",
     "collapsed": false,
     "input": [
      "# Predict\n",
      "predicted_dev = regr.predict(dev_set_inf.iloc[:,:-1])\n",
      "predicted_test = regr.predict(test_set_inf.iloc[:,:-1])\n",
      "\n",
      "# Normalize the predicted values to look at the shapes\n",
      "#normalized_Y_dev = (Y_dev-np.min(Y_dev))/np.ptp(Y_dev) \n",
      "#normalized_predicted_dev = (predicted_dev-np.min(predicted_dev))/np.ptp(predicted_dev)\n",
      "#normalized_Y_test = (Y_test-np.min(Y_test))/np.ptp(Y_test) \n",
      "#normalized_predicted_test = (predicted_test-np.min(predicted_test))/np.ptp(predicted_test)\n",
      "\n",
      "normalized_Y_dev = Y_dev\n",
      "normalized_predicted_dev = predicted_dev\n",
      "normalized_Y_test = Y_test\n",
      "normalized_predicted_test = predicted_test"
     ],
     "language": "python",
     "metadata": {},
     "outputs": [],
     "prompt_number": 354
    },
    {
     "cell_type": "code",
     "collapsed": false,
     "input": [
      "#Best possible score is 1.0, lower values are not ideal. Should we normalize the labels (Y values) as well?\n",
      "print metrics.r2_score(normalized_Y_dev, normalized_predicted_dev), metrics.r2_score(normalized_Y_test, normalized_predicted_test)\n",
      "\n",
      "#Mean squared error, ideal should be 0\n",
      "print metrics.mean_absolute_error(normalized_Y_dev, normalized_predicted_dev, sample_weight=None)"
     ],
     "language": "python",
     "metadata": {},
     "outputs": [
      {
       "output_type": "stream",
       "stream": "stdout",
       "text": [
        "-0.678191683124 -0.678191683124\n",
        "7.62529588758\n"
       ]
      }
     ],
     "prompt_number": 355
    },
    {
     "cell_type": "markdown",
     "metadata": {},
     "source": [
      "###Lasso Regression for Informative Model"
     ]
    },
    {
     "cell_type": "code",
     "collapsed": false,
     "input": [
      "#We can use Lasso regression which itertively tries to find the most important predictor for informative talks.\n",
      "lasso = linear_model.LassoCV()\n",
      "\n",
      "# Train lasso model using the training sets\n",
      "lasso.fit(X_train, Y_train)\n",
      "\n",
      "# The coefficients\n",
      "print('Coefficients: \\n', lasso.coef_)\n",
      "\n",
      "# The mean square error\n",
      "print(\"Residual sum of squares: %.2f\"\n",
      "      % np.mean((lasso.predict(X_dev) - Y_dev) ** 2))\n",
      "\n",
      "# Explained variance score: 1 is perfect prediction\n",
      "print('Variance score: %.2f' % lasso.score(X_dev, Y_dev))\n"
     ],
     "language": "python",
     "metadata": {},
     "outputs": [
      {
       "output_type": "stream",
       "stream": "stdout",
       "text": [
        "('Coefficients: \\n', array([-0.        , -0.        ,  0.        ,  0.        , -0.00307224,\n",
        "        0.        ,  0.        ,  0.        ,  0.        , -0.01197408,\n",
        "       -0.        , -0.03480386, -0.00555198,  0.06082695, -0.00274295,\n",
        "        0.00148446, -0.        , -0.        ,  0.00016268]))\n",
        "Residual sum of squares: 80.39\n",
        "Variance score: 0.00\n"
       ]
      }
     ],
     "prompt_number": 356
    },
    {
     "cell_type": "code",
     "collapsed": false,
     "input": [
      "X_train.columns[[4,9,11,12,13,14,15,18]]"
     ],
     "language": "python",
     "metadata": {},
     "outputs": [
      {
       "metadata": {},
       "output_type": "pyout",
       "prompt_number": 358,
       "text": [
        "Index([u'num_unique_words', u'num_sents', u'num_paras', u'avg_words_para', u'count_adjectives', u'count_verbs', u'count_conjunction', u'num_second_person'], dtype='object')"
       ]
      }
     ],
     "prompt_number": 358
    },
    {
     "cell_type": "markdown",
     "metadata": {},
     "source": [
      "###Analysis of Lasso Regression for Informative Model\n",
      "    As per the lasso regression model, the features that are most useful for predicting the labels and their correlation are:<br>\n",
      "        1) The number of unique words (lesser the better)\n",
      "        2) The number of sentences (lesser the better)\n",
      "        3) The number of paras (lesser the better, the most significant feature)\n",
      "        4) The average words per paragraph (The more the better)\n",
      "        5) The count of adjectives (lesser the better)\n",
      "        6) The count of verbs (The more the better)\n",
      "        7) Count of conjunctions (lesser the better)\n",
      "        9) Number of second person pronouns (The more the better)"
     ]
    },
    {
     "cell_type": "code",
     "collapsed": false,
     "input": [
      "#Predicting using Lasso\n",
      "\n",
      "predicted_dev = lasso.predict(X_dev)\n",
      "predicted_test = lasso.predict(X_test)\n",
      "\n",
      "# Normalize the predicted values to look at the shapes\n",
      "normalized_Y_dev = (Y_dev-np.min(Y_dev))/np.ptp(Y_dev) \n",
      "normalized_predicted_dev = (predicted_dev-np.min(predicted_dev))/np.ptp(predicted_dev)\n",
      "normalized_Y_test = (Y_test-np.min(Y_test))/np.ptp(Y_test) \n",
      "normalized_predicted_test = (predicted_test-np.min(predicted_test))/np.ptp(predicted_test)"
     ],
     "language": "python",
     "metadata": {},
     "outputs": [],
     "prompt_number": 364
    },
    {
     "cell_type": "markdown",
     "metadata": {},
     "source": [
      "##Plots\n",
      "    The plot overlays the original vs the predicted values for the Informative Model."
     ]
    },
    {
     "cell_type": "code",
     "collapsed": false,
     "input": [
      "plot(normalized_Y_dev)\n",
      "plot(normalized_predicted_dev)"
     ],
     "language": "python",
     "metadata": {},
     "outputs": [
      {
       "metadata": {},
       "output_type": "pyout",
       "prompt_number": 368,
       "text": [
        "[<matplotlib.lines.Line2D at 0x1130b8610>]"
       ]
      },
      {
       "metadata": {},
       "output_type": "display_data",
       "png": "[encoded data removed]",
       "text": [
        "<matplotlib.figure.Figure at 0x121df6d50>"
       ]
      }
     ],
     "prompt_number": 368
    },
    {
     "cell_type": "markdown",
     "metadata": {},
     "source": [
      "    Another view of predicted vs original values"
     ]
    },
    {
     "cell_type": "code",
     "collapsed": false,
     "input": [
      "#Trying to create a residual plot, need to figure out another way\n",
      "plt.scatter(normalized_predicted_test, normalized_predicted_test- normalized_Y_test, c='g')"
     ],
     "language": "python",
     "metadata": {},
     "outputs": [
      {
       "metadata": {},
       "output_type": "pyout",
       "prompt_number": 369,
       "text": [
        "<matplotlib.collections.PathCollection at 0x119953f90>"
       ]
      },
      {
       "metadata": {},
       "output_type": "display_data",
       "png": "[encoded data removed]",
       "text": [
        "<matplotlib.figure.Figure at 0x10ecd4990>"
       ]
      }
     ],
     "prompt_number": 369
    },
    {
     "cell_type": "markdown",
     "metadata": {},
     "source": [
      "##Discourse Analysis\n",
      "    Reference: Structure of Great Talks - Nancy Duarte - http://www.ted.com/talks/nancy_duarte_the_secret_structure_of_great_talks\n",
      "    The structure of a good talk as per Duarte's analysis follows a pattern of WHAT IS - WHAT COULD BE. The following is an attempt to plot this structure and analyse if there is a pattern that can be seen across different categories of talks.    \n",
      "     \n",
      "     \n",
      "     The following is a talk by Anjelina Jolie at the U.N. This talk is said to be modelled based on this structure."
     ]
    },
    {
     "cell_type": "code",
     "collapsed": false,
     "input": [
      "AJ_talk = ' '.join(open('../Corpus/AJ.txt', 'rb').readlines())\n",
      "AJ_talk = AJ_talk.replace('\\r\\n' , '')\n",
      "sent_tokenized = nltk.sent_tokenize(AJ_talk)\n",
      "word_tokenized = [nltk.word_tokenize(sent) for sent in sent_tokenized]\n",
      "tagged = [nltk.pos_tag(word) for word in word_tokenized]\n",
      "\n",
      "FIRST_PERSON_SINGULAR = [\"i\", \"me\", \"my\"]\n",
      "FIRST_PERSON_PLURAL = [\"we\", \"us\"]\n",
      "SECOND_PERSON = [\"you\", \"your\"]\n",
      "THIRD_PERSON = [\"it\", \"they\", \"their\"]"
     ],
     "language": "python",
     "metadata": {},
     "outputs": [],
     "prompt_number": 5
    },
    {
     "cell_type": "markdown",
     "metadata": {},
     "source": [
      "    Here, we have picked a set of talks from different categories and plotted the structure. The user ratinf percentages for each label are mentioned alongside the talks.\n",
      "    'What is' and 'What could be' are differentiated based on the number of past/present tense verbs vs the number of future tense verbs. To get rid of noise, if there is only a minor difference between the two, that shift is ignored. A few additions like 'yet to' , 'responsibility' etc clearly indicate a mention of 'What could be'. So the presence of these words are weighted more.\n",
      "    \n",
      "###Plots:\n",
      "    \"What is\" is coded at value 5 and \"What could be\" at 10. The graphs plot sentence boundaries vs the 'What is - What could be' measure. The legend of the plot indicates the category percentage for the talk and the number of small shifts that were ignored.\n",
      "\n",
      "    Initially, we tried the structure analysis on topic boundaries. But that did not capture well the shifts within a topic. So, we moved to a smaller unit - the sentence boundaries."
     ]
    },
    {
     "cell_type": "code",
     "collapsed": false,
     "input": [
      "talks = [\n",
      "        (-1, tagged),               # Sample Jolie talk picked from http://www.duarte.com/blog/category/speech-analysis/\n",
      "        (12, tagged_sents[12]),     # Informative : 33 vs confusing: 1 vs Funny 3\n",
      "        (144, tagged_sents[144]),   # Informative : 9 vs confusing: 4 vs Funny 4\n",
      "        (151, tagged_sents[151]),   # Informative : 0 vs confusing: 50 vs Funny 6\n",
      "        (162, tagged_sents[162]),   # Informative : 25 vs confusing: 0 vs Funny 3\n",
      "        (75, tagged_sents[75]),\n",
      "        (129, tagged_sents[129]),    #Inspiring\n",
      "        ]\n",
      "\n",
      "trends = [10,5]\n",
      "def verb_tense(sent):\n",
      "    loop_pres = list()\n",
      "    loop_future = list()\n",
      "    for w,t in sent:\n",
      "        if 'VB' in t:\n",
      "            if t == 'VBD' or t == 'VBG' or t == 'VBN' or t == 'VBP' or t == 'VBZ':\n",
      "                loop_pres.append((w,t))\n",
      "            else:\n",
      "                loop_future.append((w,t))\n",
      "    words = ' '.join([w.lower() for w,t in sent])\n",
      "    if 'yet to' in words or 'responsibility' in words or 'therefore' in words:\n",
      "        loop_pres = []\n",
      "    return len(loop_pres) - len(loop_future)\n",
      "\n",
      "def pronouns(sent):\n",
      "    loop_first = list()\n",
      "    loop_rest = list()\n",
      "    for w,t in sent:\n",
      "        if w .lower() in FIRST_PERSON_SINGULAR or w in FIRST_PERSON_SINGULAR:\n",
      "            loop_first.append(w)\n",
      "        elif w.lower() in SECOND_PERSON:\n",
      "            loop_rest.append(w)\n",
      "#     print loop_first, loop_rest\n",
      "    \n",
      "for index, talk in talks:\n",
      "    isPresent = None\n",
      "    small_shift = 0\n",
      "    trend_list = list()\n",
      "    for sent in talk:\n",
      "        present_index = verb_tense(sent)\n",
      "        pronouns(sent)\n",
      "        if isPresent is None:\n",
      "            if present_index >= 0:\n",
      "                isPresent = 1\n",
      "            else:\n",
      "                isPresent = 0\n",
      "        if abs(present_index) < 2:\n",
      "            small_shift += 1\n",
      "            pass\n",
      "        elif isPresent == 1 and present_index < 0:\n",
      "            isPresent = 0\n",
      "        elif isPresent == 0 and present_index > 0:\n",
      "            isPresent = 1\n",
      "#         if isPresent == 0:\n",
      "#             print \"\\t\\t\\t\\t\", \n",
      "#         print ' '.join([w for w,t in sent])\n",
      "        trend_list.append(trends[isPresent])\n",
      "    x = range(len(talk))\n",
      "    label_text = \"What is vs What could be\\nShifts ignored:\" + str(small_shift)\n",
      "    if index != -1:\n",
      "        label_text = \"Confusing: \" + confusing_y[index] + \"\\nFunny: \" + funny_y[index] + \"\\nInformative: \" + informative_y[index] + \\\n",
      "                \"\\nShifts ignored: \"  + str(small_shift)\n",
      "    pylab.xlabel(\"Sentence Numbers - \" + str(len(talk)))\n",
      "    pylab.ylabel(\"What is, What could be\")\n",
      "    ax = pylab.subplot(111)\n",
      "    pylab.plot(x, trend_list, label= label_text)\n",
      "    ax.legend(bbox_to_anchor=(2, 0.5))\n",
      "    pylab.show()"
     ],
     "language": "python",
     "metadata": {},
     "outputs": [
      {
       "ename": "NameError",
       "evalue": "name 'tagged_sents' is not defined",
       "output_type": "pyerr",
       "traceback": [
        "\u001b[1;31m---------------------------------------------------------------------------\u001b[0m\n\u001b[1;31mNameError\u001b[0m                                 Traceback (most recent call last)",
        "\u001b[1;32m<ipython-input-6-5159d98722be>\u001b[0m in \u001b[0;36m<module>\u001b[1;34m()\u001b[0m\n\u001b[0;32m      1\u001b[0m talks = [\n\u001b[0;32m      2\u001b[0m         \u001b[1;33m(\u001b[0m\u001b[1;33m-\u001b[0m\u001b[1;36m1\u001b[0m\u001b[1;33m,\u001b[0m \u001b[0mtagged\u001b[0m\u001b[1;33m)\u001b[0m\u001b[1;33m,\u001b[0m               \u001b[1;31m# Sample Jolie talk picked from http://www.duarte.com/blog/category/speech-analysis/\u001b[0m\u001b[1;33m\u001b[0m\u001b[0m\n\u001b[1;32m----> 3\u001b[1;33m         \u001b[1;33m(\u001b[0m\u001b[1;36m12\u001b[0m\u001b[1;33m,\u001b[0m \u001b[0mtagged_sents\u001b[0m\u001b[1;33m[\u001b[0m\u001b[1;36m12\u001b[0m\u001b[1;33m]\u001b[0m\u001b[1;33m)\u001b[0m\u001b[1;33m,\u001b[0m     \u001b[1;31m# Informative : 33 vs confusing: 1 vs Funny 3\u001b[0m\u001b[1;33m\u001b[0m\u001b[0m\n\u001b[0m\u001b[0;32m      4\u001b[0m         \u001b[1;33m(\u001b[0m\u001b[1;36m144\u001b[0m\u001b[1;33m,\u001b[0m \u001b[0mtagged_sents\u001b[0m\u001b[1;33m[\u001b[0m\u001b[1;36m144\u001b[0m\u001b[1;33m]\u001b[0m\u001b[1;33m)\u001b[0m\u001b[1;33m,\u001b[0m   \u001b[1;31m# Informative : 9 vs confusing: 4 vs Funny 4\u001b[0m\u001b[1;33m\u001b[0m\u001b[0m\n\u001b[0;32m      5\u001b[0m         \u001b[1;33m(\u001b[0m\u001b[1;36m151\u001b[0m\u001b[1;33m,\u001b[0m \u001b[0mtagged_sents\u001b[0m\u001b[1;33m[\u001b[0m\u001b[1;36m151\u001b[0m\u001b[1;33m]\u001b[0m\u001b[1;33m)\u001b[0m\u001b[1;33m,\u001b[0m   \u001b[1;31m# Informative : 0 vs confusing: 50 vs Funny 6\u001b[0m\u001b[1;33m\u001b[0m\u001b[0m\n",
        "\u001b[1;31mNameError\u001b[0m: name 'tagged_sents' is not defined"
       ]
      }
     ],
     "prompt_number": 6
    },
    {
     "cell_type": "code",
     "collapsed": false,
     "input": [],
     "language": "python",
     "metadata": {},
     "outputs": []
    }
   ],
   "metadata": {}
  }
 ]
}